{
 "cells": [
  {
   "cell_type": "code",
   "execution_count": null,
   "id": "75494a24",
   "metadata": {},
   "outputs": [],
   "source": [
    "# Run necessary libraries\n",
    "\n",
    "from moviepy.editor import *\n",
    "import moviepy\n",
    "import os\n",
    "import moviepy.editor \n",
    "import tempfile\n",
    "import glob"
   ]
  },
  {
   "cell_type": "code",
   "execution_count": null,
   "id": "9633a082",
   "metadata": {},
   "outputs": [],
   "source": [
    "pathdir = \"PATH DIRECTION HERE\" #make sure that the direction is like D:\\\\folder\\\\folder -- you need two dashes, not one.\n",
    "\n",
    "# Get a list of all the files with .mp4 extension in path folder.\n",
    "mp4_filenames_list = glob.glob(os.path.join(pathdir, \"*.mp4\"))\n",
    "\n",
    "for filename in mp4_filenames_list:\n",
    "    print(filename)\n",
    "        \n",
    "    video = moviepy.editor.VideoFileClip(filename)\n",
    "    audio = video.audio\n",
    "\n",
    "    # To Audio\n",
    "    if audio is not None:\n",
    "        wav_file_name = filename.replace('.mp4', '.mp3')  # Replace .mp4 with .mp3 --> if you want other formats, replace mp3 and write it.\n",
    "        audio.write_audiofile(wav_file_name)\n",
    "else:\n",
    "    print(\"Finished conversion\") #the audio files will be saved to the video path direction."
   ]
  }
 ],
 "metadata": {
  "kernelspec": {
   "display_name": "Python 3 (ipykernel)",
   "language": "python",
   "name": "python3"
  },
  "language_info": {
   "codemirror_mode": {
    "name": "ipython",
    "version": 3
   },
   "file_extension": ".py",
   "mimetype": "text/x-python",
   "name": "python",
   "nbconvert_exporter": "python",
   "pygments_lexer": "ipython3",
   "version": "3.9.7"
  }
 },
 "nbformat": 4,
 "nbformat_minor": 5
}
